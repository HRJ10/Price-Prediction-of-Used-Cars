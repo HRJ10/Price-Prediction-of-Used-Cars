{
 "cells": [
  {
   "cell_type": "code",
   "execution_count": 6,
   "metadata": {},
   "outputs": [],
   "source": [
    "import numpy as np \n",
    "import pandas as pd    \n",
    "import matplotlib.pyplot as plt\n",
    "import seaborn as sns\n",
    "\n",
    "from sklearn.model_selection import train_test_split\n",
    "from sklearn.preprocessing import StandardScaler\n",
    "from sklearn.metrics import classification_report, accuracy_score, confusion_matrix\n",
    "\n",
    "\n",
    "from sklearn.cluster import KMeans\n",
    "from tensorflow.keras.models import Sequential\n",
    "from tensorflow.keras.layers import Conv2D, MaxPooling2D, Flatten, Dense\n",
    "from sklearn.model_selection import train_test_split\n",
    "from tensorflow.keras.utils import to_categorical\n",
    "\n",
    "import warnings         \n",
    "warnings.filterwarnings(\"ignore\")"
   ]
  },
  {
   "cell_type": "code",
   "execution_count": 7,
   "metadata": {},
   "outputs": [],
   "source": [
    "dfe = pd.read_csv(\"dataset/resampled-train.csv\")"
   ]
  },
  {
   "cell_type": "code",
   "execution_count": 8,
   "metadata": {},
   "outputs": [],
   "source": [
    "\n",
    "X_resampled = dfe[['ODO', 'Year', 'Age', 'Mileage', 'Engine', 'Power', 'Seats', 'Fuel_Diesel', 'Fuel_Petrol', 'Transmission_Automatic', 'Transmission_Manual', 'Owner_First', 'Owner_Fourth & Above', 'Owner_Second', 'Owner_Third']]\n",
    "\n",
    "y_resampled = dfe['Price_Category']"
   ]
  },
  {
   "cell_type": "code",
   "execution_count": 9,
   "metadata": {},
   "outputs": [],
   "source": [
    "X_train, X_test, y_train, y_test = train_test_split(X_resampled, y_resampled, test_size=0.2, random_state=42)\n",
    "scaler = StandardScaler()\n",
    "X_train_scaled = scaler.fit_transform(X_train)\n",
    "X_test_scaled = scaler.transform(X_test)\n"
   ]
  },
  {
   "cell_type": "code",
   "execution_count": 10,
   "metadata": {
    "scrolled": true
   },
   "outputs": [
    {
     "name": "stdout",
     "output_type": "stream",
     "text": [
      "Epoch 1/10\n",
      "431/431 [==============================] - 3s 4ms/step - loss: 0.2719 - accuracy: 0.9018 - val_loss: 0.1269 - val_accuracy: 0.9515\n",
      "Epoch 2/10\n",
      "431/431 [==============================] - 2s 4ms/step - loss: 0.1178 - accuracy: 0.9602 - val_loss: 0.0848 - val_accuracy: 0.9718\n",
      "Epoch 3/10\n",
      "431/431 [==============================] - 2s 4ms/step - loss: 0.0955 - accuracy: 0.9663 - val_loss: 0.0689 - val_accuracy: 0.9785\n",
      "Epoch 4/10\n",
      "431/431 [==============================] - 2s 4ms/step - loss: 0.0858 - accuracy: 0.9709 - val_loss: 0.0992 - val_accuracy: 0.9663\n",
      "Epoch 5/10\n",
      "431/431 [==============================] - 2s 4ms/step - loss: 0.0676 - accuracy: 0.9783 - val_loss: 0.0939 - val_accuracy: 0.9672\n",
      "Epoch 6/10\n",
      "431/431 [==============================] - 2s 4ms/step - loss: 0.0740 - accuracy: 0.9746 - val_loss: 0.0940 - val_accuracy: 0.9675\n",
      "Epoch 7/10\n",
      "431/431 [==============================] - 2s 4ms/step - loss: 0.0618 - accuracy: 0.9785 - val_loss: 0.0574 - val_accuracy: 0.9814\n",
      "Epoch 8/10\n",
      "431/431 [==============================] - 2s 4ms/step - loss: 0.0571 - accuracy: 0.9813 - val_loss: 0.0537 - val_accuracy: 0.9820\n",
      "Epoch 9/10\n",
      "431/431 [==============================] - 2s 4ms/step - loss: 0.0640 - accuracy: 0.9797 - val_loss: 0.0571 - val_accuracy: 0.9829\n",
      "Epoch 10/10\n",
      "431/431 [==============================] - 2s 4ms/step - loss: 0.0549 - accuracy: 0.9807 - val_loss: 0.0566 - val_accuracy: 0.9817\n",
      "Test loss: 0.05659741163253784\n",
      "Test accuracy: 0.9816913604736328\n",
      "108/108 [==============================] - 0s 2ms/step\n",
      "              precision    recall  f1-score   support\n",
      "\n",
      "           0       1.00      0.99      0.99      1200\n",
      "           1       1.00      0.96      0.98      1122\n",
      "           2       0.95      1.00      0.97      1119\n",
      "\n",
      "    accuracy                           0.98      3441\n",
      "   macro avg       0.98      0.98      0.98      3441\n",
      "weighted avg       0.98      0.98      0.98      3441\n",
      "\n"
     ]
    },
    {
     "data": {
      "image/png": "[encoded data removed]",
      "text/plain": [
       "<Figure size 800x600 with 2 Axes>"
      ]
     },
     "metadata": {},
     "output_type": "display_data"
    }
   ],
   "source": [
    "kmeans = KMeans(n_clusters=64, random_state=42)\n",
    "kmeans.fit(X_train_scaled)\n",
    "X_train_clustered = kmeans.transform(X_train_scaled)\n",
    "X_test_clustered = kmeans.transform(X_test_scaled)\n",
    "\n",
    "total_cluster_size = X_train_clustered.shape[1]\n",
    "\n",
    "sqrt_cluster_size = int(np.sqrt(total_cluster_size))\n",
    "grid_shape = (sqrt_cluster_size, sqrt_cluster_size)\n",
    "\n",
    "num_train_samples = X_train_clustered.shape[0]\n",
    "num_test_samples = X_test_clustered.shape[0]\n",
    "\n",
    "X_train_clustered_grid = X_train_clustered.reshape(num_train_samples, *grid_shape)\n",
    "X_test_clustered_grid = X_test_clustered.reshape(num_test_samples, *grid_shape)\n",
    "\n",
    "model = Sequential()\n",
    "model.add(Conv2D(32, kernel_size=(3, 3), activation='relu', input_shape=(*grid_shape, 1)))\n",
    "model.add(MaxPooling2D(pool_size=(2, 2)))\n",
    "model.add(Flatten())\n",
    "model.add(Dense(128, activation='relu'))\n",
    "model.add(Dense(3, activation='softmax'))  # Assuming 3 classes (Low, Medium, High)\n",
    "\n",
    "model.compile(optimizer='adam', loss='categorical_crossentropy', metrics=['accuracy'])\n",
    "\n",
    "model.fit(X_train_clustered_grid[..., np.newaxis], to_categorical(y_train), epochs=10, batch_size=32, validation_data=(X_test_clustered_grid[..., np.newaxis], to_categorical(y_test)))\n",
    "\n",
    "score = model.evaluate(X_test_clustered_grid[..., np.newaxis], to_categorical(y_test), verbose=0)\n",
    "print(\"Test loss:\", score[0])\n",
    "print(\"Test accuracy:\", score[1])\n",
    "\n",
    "y_pred = np.argmax(model.predict(X_test_clustered_grid[..., np.newaxis]), axis=-1)\n",
    "\n",
    "print(classification_report(y_test, y_pred))\n",
    "\n",
    "conf_mat = confusion_matrix(y_test, y_pred)\n",
    "plt.figure(figsize=(8, 6))\n",
    "plt.imshow(conf_mat, cmap=plt.cm.Blues)\n",
    "plt.title('Confusion Matrix')\n",
    "plt.colorbar()\n",
    "classes = ['Low', 'Medium', 'High']\n",
    "tick_marks = np.arange(len(classes))\n",
    "plt.xticks(tick_marks, classes)\n",
    "plt.yticks(tick_marks, classes)\n",
    "plt.xlabel('Predicted Labels')\n",
    "plt.ylabel('True Labels')\n",
    "plt.tight_layout()\n",
    "\n",
    "for i in range(len(classes)):\n",
    "    for j in range(len(classes)):\n",
    "        plt.text(j, i, str(conf_mat[i][j]), horizontalalignment='center', color='white' if conf_mat[i][j] > conf_mat.max() / 2 else 'black')\n",
    "\n",
    "plt.show()\n"
   ]
  }
 ],
 "metadata": {
  "kernelspec": {
   "display_name": "Python 3 (ipykernel)",
   "language": "python",
   "name": "python3"
  },
  "language_info": {
   "codemirror_mode": {
    "name": "ipython",
    "version": 3
   },
   "file_extension": ".py",
   "mimetype": "text/x-python",
   "name": "python",
   "nbconvert_exporter": "python",
   "pygments_lexer": "ipython3",
   "version": "3.10.8"
  }
 },
 "nbformat": 4,
 "nbformat_minor": 4
}
