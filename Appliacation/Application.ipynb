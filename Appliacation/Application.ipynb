{
 "cells": [
  {
   "cell_type": "code",
   "execution_count": 4,
   "id": "d7878754-0073-4bb4-a836-4e00e043a3b6",
   "metadata": {},
   "outputs": [
    {
     "name": "stdin",
     "output_type": "stream",
     "text": [
      "Enter ODO reading:  41000\n",
      "Enter Year:  2015\n",
      "Enter Age:  8\n",
      "Enter Milage:  19.67\n",
      "Enter Engine:  1582\n",
      "Enter Power:  126.2\n",
      "Enter Seats:  5\n",
      "Choose Fuel type (0: Diesel, 1: Petrol):  0\n",
      "Choose Transmission type (0: Automatic, 1: Manual):  1\n",
      "Choose Owner type (0: First, 1: Second, 2: Third, 3: Fourth & Above):  0\n"
     ]
    },
    {
     "name": "stdout",
     "output_type": "stream",
     "text": [
      "LSTM :\n",
      "1/1 [==============================] - 1s 897ms/step\n",
      "Predicted Category: [1]\n",
      "Linear Regression :\n",
      "Predicted Price: [22.7873677]\n"
     ]
    }
   ],
   "source": [
    "import numpy as np\n",
    "import pandas as pd\n",
    "import joblib\n",
    "from sklearn.preprocessing import StandardScaler, LabelEncoder\n",
    "from tensorflow.keras.models import load_model\n",
    "from sklearn.linear_model import LinearRegression\n",
    "\n",
    "lstm_model = load_model('lstm.h5')\n",
    "log_reg_model = joblib.load('linear.pkl')\n",
    "scaler = joblib.load('scaler.pkl')\n",
    "\n",
    "def preprocess_input_lstm(input_data, scaler):\n",
    "    scaled_input = scaler.transform(input_data)\n",
    "    reshaped_input = scaled_input.reshape((scaled_input.shape[0], 1, scaled_input.shape[1]))\n",
    "    return reshaped_input\n",
    "\n",
    "def predict_price_category_lstm(user_input_lstm, scaler):\n",
    "    processed_input_lstm = preprocess_input_lstm(pd.DataFrame(user_input_lstm, index=[0]), scaler)\n",
    "    predicted_category = np.argmax(lstm_model.predict(processed_input_lstm), axis=-1)\n",
    "    return predicted_category\n",
    "\n",
    "def predict_exact_price_logistic_regression(category, user_input_log_reg):\n",
    "    processed_input_log_reg = pd.DataFrame(user_input_log_reg, index=[0])\n",
    "\n",
    "    predicted_price = log_reg_model.predict(processed_input_log_reg)\n",
    "    return predicted_price\n",
    "\n",
    "\n",
    "if __name__ == \"__main__\":\n",
    "    scaler = joblib.load('scaler.pkl')\n",
    "\n",
    "    user_input_lstm = {\n",
    "        'ODO': float(input(\"Enter ODO reading: \")),\n",
    "        'Year': int(input(\"Enter Year: \")),\n",
    "        'Age': float(input(\"Enter Age: \")),\n",
    "        'Mileage': float(input(\"Enter Milage: \")),\n",
    "        'Engine': float(input(\"Enter Engine: \")),\n",
    "        'Power': float(input(\"Enter Power: \")),\n",
    "        'Seats': float(input('Enter Seats: '))\n",
    "    }\n",
    "\n",
    "    fuel_choice = int(input(\"Choose Fuel type (0: Diesel, 1: Petrol): \"))\n",
    "    user_input_lstm['Fuel_Diesel'] = 1.0 if fuel_choice == 0 else 0.0\n",
    "    user_input_lstm['Fuel_Petrol'] = 1.0 if fuel_choice == 1 else 0.0\n",
    "\n",
    "    trans_choice = int(input(\"Choose Transmission type (0: Automatic, 1: Manual): \"))\n",
    "    user_input_lstm['Transmission_Automatic'] = 1.0 if trans_choice == 0 else 0.0\n",
    "    user_input_lstm['Transmission_Manual'] = 1.0 if trans_choice == 1 else 0.0\n",
    "    owner_choice = int(input(\"Choose Owner type (0: First, 1: Second, 2: Third, 3: Fourth & Above): \"))\n",
    "    if owner_choice == 0:\n",
    "        user_input_lstm['Owner_First'] = 1.0\n",
    "        user_input_lstm['Owner_Fourth & Above'] = 0.0\n",
    "        user_input_lstm['Owner_Second'] = 0.0\n",
    "        user_input_lstm['Owner_Third'] = 0.0\n",
    "    elif owner_choice == 1:\n",
    "        user_input_lstm['Owner_First'] = 0.0\n",
    "        user_input_lstm['Owner_Fourth & Above'] = 0.0\n",
    "        user_input_lstm['Owner_Second'] = 1.0\n",
    "        user_input_lstm['Owner_Third'] = 0.0\n",
    "    elif owner_choice == 2:\n",
    "        user_input_lstm['Owner_First'] = 0.0\n",
    "        user_input_lstm['Owner_Fourth & Above'] = 0.0\n",
    "        user_input_lstm['Owner_Second'] = 0.0\n",
    "        user_input_lstm['Owner_Third'] = 1.0\n",
    "    elif owner_choice == 3:\n",
    "        user_input_lstm['Owner_First'] = 0.0\n",
    "        user_input_lstm['Owner_Fourth & Above'] = 1.0\n",
    "        user_input_lstm['Owner_Second'] = 0.0\n",
    "        user_input_lstm['Owner_Third'] = 0.0\n",
    "\n",
    "    print(\"LSTM :\")\n",
    "    predicted_category = predict_price_category_lstm(user_input_lstm, scaler)\n",
    "    print(\"Predicted Category:\", predicted_category)\n",
    "    print(\"Linear Regression :\")\n",
    "    predicted_price = predict_exact_price_logistic_regression(predicted_category, user_input_lstm)\n",
    "    print(\"Predicted Price:\", predicted_price)\n",
    "\n"
   ]
  },
  {
   "cell_type": "code",
   "execution_count": null,
   "id": "86ebc000-8f4b-4b7b-b416-80de6294bb8f",
   "metadata": {},
   "outputs": [],
   "source": []
  }
 ],
 "metadata": {
  "kernelspec": {
   "display_name": "Python 3 (ipykernel)",
   "language": "python",
   "name": "python3"
  },
  "language_info": {
   "codemirror_mode": {
    "name": "ipython",
    "version": 3
   },
   "file_extension": ".py",
   "mimetype": "text/x-python",
   "name": "python",
   "nbconvert_exporter": "python",
   "pygments_lexer": "ipython3",
   "version": "3.10.8"
  }
 },
 "nbformat": 4,
 "nbformat_minor": 5
}
